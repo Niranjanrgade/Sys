{
 "cells": [
  {
   "cell_type": "markdown",
   "id": "3536fed0",
   "metadata": {},
   "source": [
    "# Classification Model"
   ]
  },
  {
   "cell_type": "markdown",
   "id": "53f6fd33",
   "metadata": {},
   "source": [
    "### problem definition\n",
    "\n",
    "- predict if a patient will face heart diesease in the future"
   ]
  },
  {
   "cell_type": "markdown",
   "id": "98852d0b",
   "metadata": {},
   "source": [
    "### import required packages"
   ]
  },
  {
   "cell_type": "code",
   "execution_count": 1,
   "id": "b1f9f320",
   "metadata": {},
   "outputs": [],
   "source": [
    "import numpy as np\n",
    "import pandas as pd\n",
    "import matplotlib.pyplot as plt\n",
    "import seaborn as sns"
   ]
  },
  {
   "cell_type": "markdown",
   "id": "9ed1c05e",
   "metadata": {},
   "source": [
    "### get the data"
   ]
  },
  {
   "cell_type": "code",
   "execution_count": 2,
   "id": "c90824ab",
   "metadata": {},
   "outputs": [],
   "source": [
    "df = pd.read_csv('heart.csv')"
   ]
  },
  {
   "cell_type": "markdown",
   "id": "fccb63ac",
   "metadata": {},
   "source": [
    "### EDA"
   ]
  },
  {
   "cell_type": "code",
   "execution_count": 3,
   "id": "f16a0a1f",
   "metadata": {},
   "outputs": [
    {
     "name": "stdout",
     "output_type": "stream",
     "text": [
      "<class 'pandas.core.frame.DataFrame'>\n",
      "RangeIndex: 303 entries, 0 to 302\n",
      "Data columns (total 14 columns):\n",
      " #   Column      Non-Null Count  Dtype  \n",
      "---  ------      --------------  -----  \n",
      " 0   age         303 non-null    int64  \n",
      " 1   sex         303 non-null    object \n",
      " 2   chest_pain  303 non-null    object \n",
      " 3   rest_bp     303 non-null    int64  \n",
      " 4   chol        303 non-null    int64  \n",
      " 5   fbs         303 non-null    int64  \n",
      " 6   rest_ecg    303 non-null    object \n",
      " 7   max_hr      303 non-null    int64  \n",
      " 8   exang       303 non-null    int64  \n",
      " 9   old_peak    303 non-null    float64\n",
      " 10  slope       303 non-null    int64  \n",
      " 11  ca          299 non-null    float64\n",
      " 12  thal        301 non-null    object \n",
      " 13  disease     303 non-null    int64  \n",
      "dtypes: float64(2), int64(8), object(4)\n",
      "memory usage: 33.3+ KB\n"
     ]
    }
   ],
   "source": [
    "df.info()"
   ]
  },
  {
   "cell_type": "markdown",
   "id": "5670cffd",
   "metadata": {},
   "source": [
    "### cleanse the data"
   ]
  },
  {
   "cell_type": "code",
   "execution_count": 4,
   "id": "56d1db96",
   "metadata": {},
   "outputs": [],
   "source": [
    "# remove the NA values from ca column\n",
    "df['ca'].fillna(df['ca'].mean(), inplace=True)"
   ]
  },
  {
   "cell_type": "code",
   "execution_count": 11,
   "id": "b537153d",
   "metadata": {},
   "outputs": [
    {
     "name": "stdout",
     "output_type": "stream",
     "text": [
      "normal\n"
     ]
    }
   ],
   "source": [
    "print(df['thal'].mode()[0])\n",
    "df['thal'].fillna(df['thal'].mode()[0], inplace=True)"
   ]
  },
  {
   "cell_type": "code",
   "execution_count": 18,
   "id": "8d453390",
   "metadata": {},
   "outputs": [
    {
     "name": "stdout",
     "output_type": "stream",
     "text": [
      "mode of thal column: normal\n"
     ]
    }
   ],
   "source": [
    "from scipy import stats\n",
    "\n",
    "# get the mode of thal column as it is a textual column\n",
    "mode_thal = stats.mode(df['thal']).mode[0]\n",
    "df['thal'].fillna(mode_thal, inplace=True)\n",
    "print(f\"mode of thal column: {mode_thal}\")"
   ]
  },
  {
   "cell_type": "code",
   "execution_count": 12,
   "id": "c8f1f6fa",
   "metadata": {},
   "outputs": [
    {
     "data": {
      "text/plain": [
       "age           0\n",
       "sex           0\n",
       "chest_pain    0\n",
       "rest_bp       0\n",
       "chol          0\n",
       "fbs           0\n",
       "rest_ecg      0\n",
       "max_hr        0\n",
       "exang         0\n",
       "old_peak      0\n",
       "slope         0\n",
       "ca            0\n",
       "thal          0\n",
       "disease       0\n",
       "dtype: int64"
      ]
     },
     "execution_count": 12,
     "metadata": {},
     "output_type": "execute_result"
    }
   ],
   "source": [
    "df.isna().sum()"
   ]
  },
  {
   "cell_type": "markdown",
   "id": "41c2778d",
   "metadata": {},
   "source": [
    "#### convert the textual columns to numberic ones"
   ]
  },
  {
   "cell_type": "code",
   "execution_count": 23,
   "id": "0f0933c1",
   "metadata": {},
   "outputs": [],
   "source": [
    "from sklearn.preprocessing import LabelEncoder\n",
    "\n",
    "# create the encoder\n",
    "df['sex'] = LabelEncoder().fit_transform(df['sex'])\n",
    "df['chest_pain'] = LabelEncoder().fit_transform(df['chest_pain'])\n",
    "df['rest_ecg'] = LabelEncoder().fit_transform(df['rest_ecg'])\n",
    "df['thal'] = LabelEncoder().fit_transform(df['thal'])\n"
   ]
  },
  {
   "cell_type": "code",
   "execution_count": 5,
   "id": "42e98580",
   "metadata": {},
   "outputs": [
    {
     "name": "stdout",
     "output_type": "stream",
     "text": [
      "<class 'pandas.core.frame.DataFrame'>\n",
      "RangeIndex: 303 entries, 0 to 302\n",
      "Data columns (total 14 columns):\n",
      " #   Column      Non-Null Count  Dtype  \n",
      "---  ------      --------------  -----  \n",
      " 0   age         303 non-null    int64  \n",
      " 1   sex         303 non-null    int64  \n",
      " 2   chest_pain  303 non-null    int64  \n",
      " 3   rest_bp     303 non-null    int64  \n",
      " 4   chol        303 non-null    int64  \n",
      " 5   fbs         303 non-null    int64  \n",
      " 6   rest_ecg    303 non-null    int64  \n",
      " 7   max_hr      303 non-null    int64  \n",
      " 8   exang       303 non-null    int64  \n",
      " 9   old_peak    303 non-null    float64\n",
      " 10  slope       303 non-null    int64  \n",
      " 11  ca          299 non-null    float64\n",
      " 12  thal        303 non-null    int64  \n",
      " 13  disease     303 non-null    int64  \n",
      "dtypes: float64(2), int64(12)\n",
      "memory usage: 33.3 KB\n"
     ]
    }
   ],
   "source": [
    "df.info()"
   ]
  },
  {
   "cell_type": "code",
   "execution_count": 6,
   "id": "63b5a903",
   "metadata": {},
   "outputs": [
    {
     "data": {
      "text/plain": [
       "Index(['age', 'sex', 'chest_pain', 'rest_bp', 'chol', 'fbs', 'rest_ecg',\n",
       "       'max_hr', 'exang', 'old_peak', 'slope', 'ca', 'thal', 'disease'],\n",
       "      dtype='object')"
      ]
     },
     "execution_count": 6,
     "metadata": {},
     "output_type": "execute_result"
    }
   ],
   "source": [
    "df.columns"
   ]
  },
  {
   "cell_type": "code",
   "execution_count": 24,
   "id": "18e4499d",
   "metadata": {},
   "outputs": [
    {
     "data": {
      "text/html": [
       "<div>\n",
       "<style scoped>\n",
       "    .dataframe tbody tr th:only-of-type {\n",
       "        vertical-align: middle;\n",
       "    }\n",
       "\n",
       "    .dataframe tbody tr th {\n",
       "        vertical-align: top;\n",
       "    }\n",
       "\n",
       "    .dataframe thead th {\n",
       "        text-align: right;\n",
       "    }\n",
       "</style>\n",
       "<table border=\"1\" class=\"dataframe\">\n",
       "  <thead>\n",
       "    <tr style=\"text-align: right;\">\n",
       "      <th></th>\n",
       "      <th>age</th>\n",
       "      <th>sex</th>\n",
       "      <th>chest_pain</th>\n",
       "      <th>rest_bp</th>\n",
       "      <th>chol</th>\n",
       "      <th>fbs</th>\n",
       "      <th>rest_ecg</th>\n",
       "      <th>max_hr</th>\n",
       "      <th>exang</th>\n",
       "      <th>old_peak</th>\n",
       "      <th>slope</th>\n",
       "      <th>ca</th>\n",
       "      <th>thal</th>\n",
       "      <th>disease</th>\n",
       "    </tr>\n",
       "  </thead>\n",
       "  <tbody>\n",
       "    <tr>\n",
       "      <th>age</th>\n",
       "      <td>1.000000</td>\n",
       "      <td>-0.097542</td>\n",
       "      <td>-0.104139</td>\n",
       "      <td>0.284946</td>\n",
       "      <td>0.208950</td>\n",
       "      <td>0.118530</td>\n",
       "      <td>-0.168087</td>\n",
       "      <td>-0.393806</td>\n",
       "      <td>0.091661</td>\n",
       "      <td>0.203805</td>\n",
       "      <td>0.161770</td>\n",
       "      <td>0.359489</td>\n",
       "      <td>0.062549</td>\n",
       "      <td>0.223120</td>\n",
       "    </tr>\n",
       "    <tr>\n",
       "      <th>sex</th>\n",
       "      <td>-0.097542</td>\n",
       "      <td>1.000000</td>\n",
       "      <td>-0.010084</td>\n",
       "      <td>-0.064456</td>\n",
       "      <td>-0.199915</td>\n",
       "      <td>0.047862</td>\n",
       "      <td>0.014261</td>\n",
       "      <td>-0.048663</td>\n",
       "      <td>0.146201</td>\n",
       "      <td>0.102173</td>\n",
       "      <td>0.037533</td>\n",
       "      <td>0.092891</td>\n",
       "      <td>0.215039</td>\n",
       "      <td>0.276816</td>\n",
       "    </tr>\n",
       "    <tr>\n",
       "      <th>chest_pain</th>\n",
       "      <td>-0.104139</td>\n",
       "      <td>-0.010084</td>\n",
       "      <td>1.000000</td>\n",
       "      <td>0.036077</td>\n",
       "      <td>-0.072319</td>\n",
       "      <td>0.039975</td>\n",
       "      <td>0.087052</td>\n",
       "      <td>0.334422</td>\n",
       "      <td>-0.384060</td>\n",
       "      <td>-0.202277</td>\n",
       "      <td>-0.152050</td>\n",
       "      <td>-0.232332</td>\n",
       "      <td>-0.185251</td>\n",
       "      <td>-0.414446</td>\n",
       "    </tr>\n",
       "    <tr>\n",
       "      <th>rest_bp</th>\n",
       "      <td>0.284946</td>\n",
       "      <td>-0.064456</td>\n",
       "      <td>0.036077</td>\n",
       "      <td>1.000000</td>\n",
       "      <td>0.130120</td>\n",
       "      <td>0.175340</td>\n",
       "      <td>-0.157404</td>\n",
       "      <td>-0.045351</td>\n",
       "      <td>0.064762</td>\n",
       "      <td>0.189171</td>\n",
       "      <td>0.117382</td>\n",
       "      <td>0.098707</td>\n",
       "      <td>0.058317</td>\n",
       "      <td>0.150825</td>\n",
       "    </tr>\n",
       "    <tr>\n",
       "      <th>chol</th>\n",
       "      <td>0.208950</td>\n",
       "      <td>-0.199915</td>\n",
       "      <td>-0.072319</td>\n",
       "      <td>0.130120</td>\n",
       "      <td>1.000000</td>\n",
       "      <td>0.009841</td>\n",
       "      <td>-0.172623</td>\n",
       "      <td>-0.003432</td>\n",
       "      <td>0.061310</td>\n",
       "      <td>0.046564</td>\n",
       "      <td>-0.004062</td>\n",
       "      <td>0.118525</td>\n",
       "      <td>0.083298</td>\n",
       "      <td>0.085164</td>\n",
       "    </tr>\n",
       "    <tr>\n",
       "      <th>fbs</th>\n",
       "      <td>0.118530</td>\n",
       "      <td>0.047862</td>\n",
       "      <td>0.039975</td>\n",
       "      <td>0.175340</td>\n",
       "      <td>0.009841</td>\n",
       "      <td>1.000000</td>\n",
       "      <td>-0.050007</td>\n",
       "      <td>-0.007854</td>\n",
       "      <td>0.025665</td>\n",
       "      <td>0.005747</td>\n",
       "      <td>0.059894</td>\n",
       "      <td>0.143967</td>\n",
       "      <td>-0.011209</td>\n",
       "      <td>0.025264</td>\n",
       "    </tr>\n",
       "    <tr>\n",
       "      <th>rest_ecg</th>\n",
       "      <td>-0.168087</td>\n",
       "      <td>0.014261</td>\n",
       "      <td>0.087052</td>\n",
       "      <td>-0.157404</td>\n",
       "      <td>-0.172623</td>\n",
       "      <td>-0.050007</td>\n",
       "      <td>1.000000</td>\n",
       "      <td>0.118172</td>\n",
       "      <td>-0.094125</td>\n",
       "      <td>-0.162650</td>\n",
       "      <td>-0.166359</td>\n",
       "      <td>-0.133769</td>\n",
       "      <td>0.032047</td>\n",
       "      <td>-0.181932</td>\n",
       "    </tr>\n",
       "    <tr>\n",
       "      <th>max_hr</th>\n",
       "      <td>-0.393806</td>\n",
       "      <td>-0.048663</td>\n",
       "      <td>0.334422</td>\n",
       "      <td>-0.045351</td>\n",
       "      <td>-0.003432</td>\n",
       "      <td>-0.007854</td>\n",
       "      <td>0.118172</td>\n",
       "      <td>1.000000</td>\n",
       "      <td>-0.378103</td>\n",
       "      <td>-0.343085</td>\n",
       "      <td>-0.385601</td>\n",
       "      <td>-0.263408</td>\n",
       "      <td>-0.114488</td>\n",
       "      <td>-0.417167</td>\n",
       "    </tr>\n",
       "    <tr>\n",
       "      <th>exang</th>\n",
       "      <td>0.091661</td>\n",
       "      <td>0.146201</td>\n",
       "      <td>-0.384060</td>\n",
       "      <td>0.064762</td>\n",
       "      <td>0.061310</td>\n",
       "      <td>0.025665</td>\n",
       "      <td>-0.094125</td>\n",
       "      <td>-0.378103</td>\n",
       "      <td>1.000000</td>\n",
       "      <td>0.288223</td>\n",
       "      <td>0.257748</td>\n",
       "      <td>0.144722</td>\n",
       "      <td>0.225508</td>\n",
       "      <td>0.431894</td>\n",
       "    </tr>\n",
       "    <tr>\n",
       "      <th>old_peak</th>\n",
       "      <td>0.203805</td>\n",
       "      <td>0.102173</td>\n",
       "      <td>-0.202277</td>\n",
       "      <td>0.189171</td>\n",
       "      <td>0.046564</td>\n",
       "      <td>0.005747</td>\n",
       "      <td>-0.162650</td>\n",
       "      <td>-0.343085</td>\n",
       "      <td>0.288223</td>\n",
       "      <td>1.000000</td>\n",
       "      <td>0.577537</td>\n",
       "      <td>0.294558</td>\n",
       "      <td>0.210236</td>\n",
       "      <td>0.424510</td>\n",
       "    </tr>\n",
       "    <tr>\n",
       "      <th>slope</th>\n",
       "      <td>0.161770</td>\n",
       "      <td>0.037533</td>\n",
       "      <td>-0.152050</td>\n",
       "      <td>0.117382</td>\n",
       "      <td>-0.004062</td>\n",
       "      <td>0.059894</td>\n",
       "      <td>-0.166359</td>\n",
       "      <td>-0.385601</td>\n",
       "      <td>0.257748</td>\n",
       "      <td>0.577537</td>\n",
       "      <td>1.000000</td>\n",
       "      <td>0.109618</td>\n",
       "      <td>0.106310</td>\n",
       "      <td>0.339213</td>\n",
       "    </tr>\n",
       "    <tr>\n",
       "      <th>ca</th>\n",
       "      <td>0.359489</td>\n",
       "      <td>0.092891</td>\n",
       "      <td>-0.232332</td>\n",
       "      <td>0.098707</td>\n",
       "      <td>0.118525</td>\n",
       "      <td>0.143967</td>\n",
       "      <td>-0.133769</td>\n",
       "      <td>-0.263408</td>\n",
       "      <td>0.144722</td>\n",
       "      <td>0.294558</td>\n",
       "      <td>0.109618</td>\n",
       "      <td>1.000000</td>\n",
       "      <td>0.151212</td>\n",
       "      <td>0.457598</td>\n",
       "    </tr>\n",
       "    <tr>\n",
       "      <th>thal</th>\n",
       "      <td>0.062549</td>\n",
       "      <td>0.215039</td>\n",
       "      <td>-0.185251</td>\n",
       "      <td>0.058317</td>\n",
       "      <td>0.083298</td>\n",
       "      <td>-0.011209</td>\n",
       "      <td>0.032047</td>\n",
       "      <td>-0.114488</td>\n",
       "      <td>0.225508</td>\n",
       "      <td>0.210236</td>\n",
       "      <td>0.106310</td>\n",
       "      <td>0.151212</td>\n",
       "      <td>1.000000</td>\n",
       "      <td>0.359397</td>\n",
       "    </tr>\n",
       "    <tr>\n",
       "      <th>disease</th>\n",
       "      <td>0.223120</td>\n",
       "      <td>0.276816</td>\n",
       "      <td>-0.414446</td>\n",
       "      <td>0.150825</td>\n",
       "      <td>0.085164</td>\n",
       "      <td>0.025264</td>\n",
       "      <td>-0.181932</td>\n",
       "      <td>-0.417167</td>\n",
       "      <td>0.431894</td>\n",
       "      <td>0.424510</td>\n",
       "      <td>0.339213</td>\n",
       "      <td>0.457598</td>\n",
       "      <td>0.359397</td>\n",
       "      <td>1.000000</td>\n",
       "    </tr>\n",
       "  </tbody>\n",
       "</table>\n",
       "</div>"
      ],
      "text/plain": [
       "                 age       sex  chest_pain   rest_bp      chol       fbs  \\\n",
       "age         1.000000 -0.097542   -0.104139  0.284946  0.208950  0.118530   \n",
       "sex        -0.097542  1.000000   -0.010084 -0.064456 -0.199915  0.047862   \n",
       "chest_pain -0.104139 -0.010084    1.000000  0.036077 -0.072319  0.039975   \n",
       "rest_bp     0.284946 -0.064456    0.036077  1.000000  0.130120  0.175340   \n",
       "chol        0.208950 -0.199915   -0.072319  0.130120  1.000000  0.009841   \n",
       "fbs         0.118530  0.047862    0.039975  0.175340  0.009841  1.000000   \n",
       "rest_ecg   -0.168087  0.014261    0.087052 -0.157404 -0.172623 -0.050007   \n",
       "max_hr     -0.393806 -0.048663    0.334422 -0.045351 -0.003432 -0.007854   \n",
       "exang       0.091661  0.146201   -0.384060  0.064762  0.061310  0.025665   \n",
       "old_peak    0.203805  0.102173   -0.202277  0.189171  0.046564  0.005747   \n",
       "slope       0.161770  0.037533   -0.152050  0.117382 -0.004062  0.059894   \n",
       "ca          0.359489  0.092891   -0.232332  0.098707  0.118525  0.143967   \n",
       "thal        0.062549  0.215039   -0.185251  0.058317  0.083298 -0.011209   \n",
       "disease     0.223120  0.276816   -0.414446  0.150825  0.085164  0.025264   \n",
       "\n",
       "            rest_ecg    max_hr     exang  old_peak     slope        ca  \\\n",
       "age        -0.168087 -0.393806  0.091661  0.203805  0.161770  0.359489   \n",
       "sex         0.014261 -0.048663  0.146201  0.102173  0.037533  0.092891   \n",
       "chest_pain  0.087052  0.334422 -0.384060 -0.202277 -0.152050 -0.232332   \n",
       "rest_bp    -0.157404 -0.045351  0.064762  0.189171  0.117382  0.098707   \n",
       "chol       -0.172623 -0.003432  0.061310  0.046564 -0.004062  0.118525   \n",
       "fbs        -0.050007 -0.007854  0.025665  0.005747  0.059894  0.143967   \n",
       "rest_ecg    1.000000  0.118172 -0.094125 -0.162650 -0.166359 -0.133769   \n",
       "max_hr      0.118172  1.000000 -0.378103 -0.343085 -0.385601 -0.263408   \n",
       "exang      -0.094125 -0.378103  1.000000  0.288223  0.257748  0.144722   \n",
       "old_peak   -0.162650 -0.343085  0.288223  1.000000  0.577537  0.294558   \n",
       "slope      -0.166359 -0.385601  0.257748  0.577537  1.000000  0.109618   \n",
       "ca         -0.133769 -0.263408  0.144722  0.294558  0.109618  1.000000   \n",
       "thal        0.032047 -0.114488  0.225508  0.210236  0.106310  0.151212   \n",
       "disease    -0.181932 -0.417167  0.431894  0.424510  0.339213  0.457598   \n",
       "\n",
       "                thal   disease  \n",
       "age         0.062549  0.223120  \n",
       "sex         0.215039  0.276816  \n",
       "chest_pain -0.185251 -0.414446  \n",
       "rest_bp     0.058317  0.150825  \n",
       "chol        0.083298  0.085164  \n",
       "fbs        -0.011209  0.025264  \n",
       "rest_ecg    0.032047 -0.181932  \n",
       "max_hr     -0.114488 -0.417167  \n",
       "exang       0.225508  0.431894  \n",
       "old_peak    0.210236  0.424510  \n",
       "slope       0.106310  0.339213  \n",
       "ca          0.151212  0.457598  \n",
       "thal        1.000000  0.359397  \n",
       "disease     0.359397  1.000000  "
      ]
     },
     "execution_count": 24,
     "metadata": {},
     "output_type": "execute_result"
    }
   ],
   "source": [
    "df.corr()"
   ]
  },
  {
   "cell_type": "code",
   "execution_count": 7,
   "id": "40aa3186",
   "metadata": {},
   "outputs": [
    {
     "data": {
      "text/plain": [
       "age           0\n",
       "sex           0\n",
       "chest_pain    0\n",
       "rest_bp       0\n",
       "chol          0\n",
       "fbs           0\n",
       "rest_ecg      0\n",
       "max_hr        0\n",
       "exang         0\n",
       "old_peak      0\n",
       "slope         0\n",
       "ca            4\n",
       "thal          2\n",
       "disease       0\n",
       "dtype: int64"
      ]
     },
     "execution_count": 7,
     "metadata": {},
     "output_type": "execute_result"
    }
   ],
   "source": [
    "df.isna().sum()"
   ]
  },
  {
   "cell_type": "markdown",
   "id": "7c934da7",
   "metadata": {},
   "source": [
    "### prepare the data"
   ]
  },
  {
   "cell_type": "code",
   "execution_count": 25,
   "id": "ecc7fee6",
   "metadata": {},
   "outputs": [],
   "source": [
    "# decide the independent variables\n",
    "x = df[['max_hr', 'exang', 'old_peak', 'slope', 'ca', 'chest_pain', 'thal']]\n",
    "\n",
    "# decide the dependent variables\n",
    "y = df['disease']\n"
   ]
  },
  {
   "cell_type": "markdown",
   "id": "26869e30",
   "metadata": {},
   "source": [
    "### split the data"
   ]
  },
  {
   "cell_type": "code",
   "execution_count": 26,
   "id": "10a6de23",
   "metadata": {},
   "outputs": [],
   "source": [
    "from sklearn.model_selection import train_test_split\n",
    "\n",
    "x_train, x_test, y_train, y_test = train_test_split(x, y, train_size=0.8, random_state=123456)"
   ]
  },
  {
   "cell_type": "markdown",
   "id": "cf096e82",
   "metadata": {},
   "source": [
    "### create the model"
   ]
  },
  {
   "cell_type": "code",
   "execution_count": 28,
   "id": "26822009",
   "metadata": {},
   "outputs": [
    {
     "data": {
      "text/html": [
       "<style>#sk-container-id-2 {color: black;background-color: white;}#sk-container-id-2 pre{padding: 0;}#sk-container-id-2 div.sk-toggleable {background-color: white;}#sk-container-id-2 label.sk-toggleable__label {cursor: pointer;display: block;width: 100%;margin-bottom: 0;padding: 0.3em;box-sizing: border-box;text-align: center;}#sk-container-id-2 label.sk-toggleable__label-arrow:before {content: \"▸\";float: left;margin-right: 0.25em;color: #696969;}#sk-container-id-2 label.sk-toggleable__label-arrow:hover:before {color: black;}#sk-container-id-2 div.sk-estimator:hover label.sk-toggleable__label-arrow:before {color: black;}#sk-container-id-2 div.sk-toggleable__content {max-height: 0;max-width: 0;overflow: hidden;text-align: left;background-color: #f0f8ff;}#sk-container-id-2 div.sk-toggleable__content pre {margin: 0.2em;color: black;border-radius: 0.25em;background-color: #f0f8ff;}#sk-container-id-2 input.sk-toggleable__control:checked~div.sk-toggleable__content {max-height: 200px;max-width: 100%;overflow: auto;}#sk-container-id-2 input.sk-toggleable__control:checked~label.sk-toggleable__label-arrow:before {content: \"▾\";}#sk-container-id-2 div.sk-estimator input.sk-toggleable__control:checked~label.sk-toggleable__label {background-color: #d4ebff;}#sk-container-id-2 div.sk-label input.sk-toggleable__control:checked~label.sk-toggleable__label {background-color: #d4ebff;}#sk-container-id-2 input.sk-hidden--visually {border: 0;clip: rect(1px 1px 1px 1px);clip: rect(1px, 1px, 1px, 1px);height: 1px;margin: -1px;overflow: hidden;padding: 0;position: absolute;width: 1px;}#sk-container-id-2 div.sk-estimator {font-family: monospace;background-color: #f0f8ff;border: 1px dotted black;border-radius: 0.25em;box-sizing: border-box;margin-bottom: 0.5em;}#sk-container-id-2 div.sk-estimator:hover {background-color: #d4ebff;}#sk-container-id-2 div.sk-parallel-item::after {content: \"\";width: 100%;border-bottom: 1px solid gray;flex-grow: 1;}#sk-container-id-2 div.sk-label:hover label.sk-toggleable__label {background-color: #d4ebff;}#sk-container-id-2 div.sk-serial::before {content: \"\";position: absolute;border-left: 1px solid gray;box-sizing: border-box;top: 0;bottom: 0;left: 50%;z-index: 0;}#sk-container-id-2 div.sk-serial {display: flex;flex-direction: column;align-items: center;background-color: white;padding-right: 0.2em;padding-left: 0.2em;position: relative;}#sk-container-id-2 div.sk-item {position: relative;z-index: 1;}#sk-container-id-2 div.sk-parallel {display: flex;align-items: stretch;justify-content: center;background-color: white;position: relative;}#sk-container-id-2 div.sk-item::before, #sk-container-id-2 div.sk-parallel-item::before {content: \"\";position: absolute;border-left: 1px solid gray;box-sizing: border-box;top: 0;bottom: 0;left: 50%;z-index: -1;}#sk-container-id-2 div.sk-parallel-item {display: flex;flex-direction: column;z-index: 1;position: relative;background-color: white;}#sk-container-id-2 div.sk-parallel-item:first-child::after {align-self: flex-end;width: 50%;}#sk-container-id-2 div.sk-parallel-item:last-child::after {align-self: flex-start;width: 50%;}#sk-container-id-2 div.sk-parallel-item:only-child::after {width: 0;}#sk-container-id-2 div.sk-dashed-wrapped {border: 1px dashed gray;margin: 0 0.4em 0.5em 0.4em;box-sizing: border-box;padding-bottom: 0.4em;background-color: white;}#sk-container-id-2 div.sk-label label {font-family: monospace;font-weight: bold;display: inline-block;line-height: 1.2em;}#sk-container-id-2 div.sk-label-container {text-align: center;}#sk-container-id-2 div.sk-container {/* jupyter's `normalize.less` sets `[hidden] { display: none; }` but bootstrap.min.css set `[hidden] { display: none !important; }` so we also need the `!important` here to be able to override the default hidden behavior on the sphinx rendered scikit-learn.org. See: https://github.com/scikit-learn/scikit-learn/issues/21755 */display: inline-block !important;position: relative;}#sk-container-id-2 div.sk-text-repr-fallback {display: none;}</style><div id=\"sk-container-id-2\" class=\"sk-top-container\"><div class=\"sk-text-repr-fallback\"><pre>LogisticRegressionCV(max_iter=1000)</pre><b>In a Jupyter environment, please rerun this cell to show the HTML representation or trust the notebook. <br />On GitHub, the HTML representation is unable to render, please try loading this page with nbviewer.org.</b></div><div class=\"sk-container\" hidden><div class=\"sk-item\"><div class=\"sk-estimator sk-toggleable\"><input class=\"sk-toggleable__control sk-hidden--visually\" id=\"sk-estimator-id-2\" type=\"checkbox\" checked><label for=\"sk-estimator-id-2\" class=\"sk-toggleable__label sk-toggleable__label-arrow\">LogisticRegressionCV</label><div class=\"sk-toggleable__content\"><pre>LogisticRegressionCV(max_iter=1000)</pre></div></div></div></div></div>"
      ],
      "text/plain": [
       "LogisticRegressionCV(max_iter=1000)"
      ]
     },
     "execution_count": 28,
     "metadata": {},
     "output_type": "execute_result"
    }
   ],
   "source": [
    "from sklearn.linear_model import LogisticRegressionCV\n",
    "\n",
    "# create an empty model\n",
    "model = LogisticRegressionCV(max_iter=1000)\n",
    "\n",
    "# train the model\n",
    "model.fit(x_train, y_train)"
   ]
  },
  {
   "cell_type": "markdown",
   "id": "a598b65c",
   "metadata": {},
   "source": [
    "### Evaluate the model"
   ]
  },
  {
   "cell_type": "code",
   "execution_count": 29,
   "id": "b60fabdb",
   "metadata": {},
   "outputs": [],
   "source": [
    "y_pred = model.predict(x_test)"
   ]
  },
  {
   "cell_type": "markdown",
   "id": "33003dd0",
   "metadata": {},
   "source": [
    "#### confusion matrix"
   ]
  },
  {
   "cell_type": "code",
   "execution_count": 30,
   "id": "fbd62896",
   "metadata": {},
   "outputs": [
    {
     "data": {
      "text/plain": [
       "array([[36,  1],\n",
       "       [ 5, 19]])"
      ]
     },
     "execution_count": 30,
     "metadata": {},
     "output_type": "execute_result"
    }
   ],
   "source": [
    "from sklearn.metrics import confusion_matrix\n",
    "\n",
    "cm = confusion_matrix(y_test, y_pred)\n",
    "cm"
   ]
  },
  {
   "cell_type": "markdown",
   "id": "2cb3b288",
   "metadata": {},
   "source": [
    "#### accuracy"
   ]
  },
  {
   "cell_type": "code",
   "execution_count": 31,
   "id": "04f44530",
   "metadata": {},
   "outputs": [
    {
     "name": "stdout",
     "output_type": "stream",
     "text": [
      "accuaracy = 90.16%\n"
     ]
    }
   ],
   "source": [
    "from sklearn.metrics import accuracy_score\n",
    "\n",
    "accuracy = accuracy_score(y_test, y_pred)\n",
    "print(f\"accuaracy = {accuracy * 100:0.2f}%\")"
   ]
  },
  {
   "cell_type": "markdown",
   "id": "5c8ebb2f",
   "metadata": {},
   "source": [
    "#### precision"
   ]
  },
  {
   "cell_type": "code",
   "execution_count": 32,
   "id": "294c5327",
   "metadata": {},
   "outputs": [
    {
     "name": "stdout",
     "output_type": "stream",
     "text": [
      "precision = 0.95\n"
     ]
    }
   ],
   "source": [
    "from sklearn.metrics import precision_score\n",
    "\n",
    "precision = precision_score(y_test, y_pred)\n",
    "print(f\"precision = {precision}\")"
   ]
  },
  {
   "cell_type": "markdown",
   "id": "9392405d",
   "metadata": {},
   "source": [
    "#### recall"
   ]
  },
  {
   "cell_type": "code",
   "execution_count": 33,
   "id": "062bed16",
   "metadata": {},
   "outputs": [
    {
     "name": "stdout",
     "output_type": "stream",
     "text": [
      "recall = 0.7916666666666666\n"
     ]
    }
   ],
   "source": [
    "from sklearn.metrics import recall_score\n",
    "\n",
    "recall = recall_score(y_test, y_pred)\n",
    "print(f\"recall = {recall}\")"
   ]
  },
  {
   "cell_type": "markdown",
   "id": "156fd41a",
   "metadata": {},
   "source": [
    "#### f1 score"
   ]
  },
  {
   "cell_type": "code",
   "execution_count": 34,
   "id": "d3a696f8",
   "metadata": {},
   "outputs": [
    {
     "name": "stdout",
     "output_type": "stream",
     "text": [
      "f1 = 0.8636363636363635\n"
     ]
    }
   ],
   "source": [
    "from sklearn.metrics import f1_score\n",
    "\n",
    "f1 = f1_score(y_test, y_pred)\n",
    "print(f\"f1 = {f1}\")"
   ]
  },
  {
   "cell_type": "markdown",
   "id": "78a4eb1d",
   "metadata": {},
   "source": [
    "#### classification report"
   ]
  },
  {
   "cell_type": "code",
   "execution_count": 35,
   "id": "c7b7532d",
   "metadata": {},
   "outputs": [
    {
     "name": "stdout",
     "output_type": "stream",
     "text": [
      "              precision    recall  f1-score   support\n",
      "\n",
      "           0       0.88      0.97      0.92        37\n",
      "           1       0.95      0.79      0.86        24\n",
      "\n",
      "    accuracy                           0.90        61\n",
      "   macro avg       0.91      0.88      0.89        61\n",
      "weighted avg       0.91      0.90      0.90        61\n",
      "\n"
     ]
    }
   ],
   "source": [
    "from sklearn.metrics import classification_report\n",
    "\n",
    "print(classification_report(y_test, y_pred))"
   ]
  },
  {
   "cell_type": "markdown",
   "id": "36883160",
   "metadata": {},
   "source": [
    "#### RoC Auc"
   ]
  },
  {
   "cell_type": "code",
   "execution_count": 36,
   "id": "8c606a59",
   "metadata": {},
   "outputs": [
    {
     "data": {
      "text/plain": [
       "<matplotlib.legend.Legend at 0x13b4ab3a0>"
      ]
     },
     "execution_count": 36,
     "metadata": {},
     "output_type": "execute_result"
    },
    {
     "data": {
      "image/png": "[encoded data removed]",
      "text/plain": [
       "<Figure size 640x480 with 1 Axes>"
      ]
     },
     "metadata": {},
     "output_type": "display_data"
    }
   ],
   "source": [
    "from sklearn.metrics import roc_curve\n",
    "\n",
    "# get the probabilities\n",
    "y_pred_probabilities = model.predict_proba(x_test)[:, 1]\n",
    "\n",
    "# get fpr, tpr\n",
    "fpr, tpr, thresholds = roc_curve(y_test, y_pred_probabilities)\n",
    "\n",
    "# draw the curv\n",
    "plt.plot(fpr, tpr, label=\"RoC Curve\")\n",
    "plt.legend()"
   ]
  },
  {
   "cell_type": "code",
   "execution_count": 13,
   "id": "83220654",
   "metadata": {},
   "outputs": [
    {
     "ename": "NameError",
     "evalue": "name 'thresholds' is not defined",
     "output_type": "error",
     "traceback": [
      "\u001b[1;31m---------------------------------------------------------------------------\u001b[0m",
      "\u001b[1;31mNameError\u001b[0m                                 Traceback (most recent call last)",
      "Cell \u001b[1;32mIn [13], line 1\u001b[0m\n\u001b[1;32m----> 1\u001b[0m \u001b[43mthresholds\u001b[49m\n",
      "\u001b[1;31mNameError\u001b[0m: name 'thresholds' is not defined"
     ]
    }
   ],
   "source": [
    "thresholds"
   ]
  },
  {
   "cell_type": "code",
   "execution_count": 37,
   "id": "2d6a8b9d",
   "metadata": {},
   "outputs": [
    {
     "name": "stdout",
     "output_type": "stream",
     "text": [
      "roc score = 0.9718468468468469\n"
     ]
    }
   ],
   "source": [
    "from sklearn.metrics import roc_auc_score\n",
    "\n",
    "# get the roc score\n",
    "roc_score = roc_auc_score(y_test, y_pred_probabilities)\n",
    "print(f\"roc score = {roc_score}\")"
   ]
  },
  {
   "cell_type": "markdown",
   "id": "056e5280",
   "metadata": {},
   "source": [
    "### result visualization"
   ]
  },
  {
   "cell_type": "code",
   "execution_count": 38,
   "id": "e4e2c1e1",
   "metadata": {},
   "outputs": [
    {
     "data": {
      "text/plain": [
       "<matplotlib.legend.Legend at 0x13b875520>"
      ]
     },
     "execution_count": 38,
     "metadata": {},
     "output_type": "execute_result"
    },
    {
     "data": {
      "image/png": "[encoded data removed]",
      "text/plain": [
       "<Figure size 640x480 with 1 Axes>"
      ]
     },
     "metadata": {},
     "output_type": "display_data"
    }
   ],
   "source": [
    "plt.scatter(x_test['max_hr'][y_test == 0], x_test['old_peak'][y_test == 0], color=\"green\", label=\"No Heart Disease\")\n",
    "plt.scatter(x_test['max_hr'][y_test == 1], x_test['old_peak'][y_test == 1], color=\"red\", label=\"Heart Disease\")\n",
    "\n",
    "plt.xlabel('max_hr')\n",
    "plt.ylabel('old_peak')\n",
    "plt.title('input visualization')\n",
    "plt.legend()"
   ]
  },
  {
   "cell_type": "code",
   "execution_count": 40,
   "id": "8f4cbf3a",
   "metadata": {},
   "outputs": [
    {
     "data": {
      "text/plain": [
       "<matplotlib.legend.Legend at 0x146497220>"
      ]
     },
     "execution_count": 40,
     "metadata": {},
     "output_type": "execute_result"
    },
    {
     "data": {
      "image/png": "[encoded data removed]",
      "text/plain": [
       "<Figure size 640x480 with 1 Axes>"
      ]
     },
     "metadata": {},
     "output_type": "display_data"
    }
   ],
   "source": [
    "plt.scatter(x_test['max_hr'][y_pred == 0], x_test['old_peak'][y_pred == 0], color=\"green\", label=\"No Heart Disease\")\n",
    "plt.scatter(x_test['max_hr'][y_pred == 1], x_test['old_peak'][y_pred == 1], color=\"red\", label=\"Heart Disease\")\n",
    "\n",
    "plt.xlabel('max_hr')\n",
    "plt.ylabel('old_peak')\n",
    "plt.title('model visualization')\n",
    "plt.legend()"
   ]
  },
  {
   "cell_type": "code",
   "execution_count": null,
   "id": "e2a11f2f",
   "metadata": {},
   "outputs": [],
   "source": []
  }
 ],
 "metadata": {
  "kernelspec": {
   "display_name": "Python 3 (ipykernel)",
   "language": "python",
   "name": "python3"
  },
  "language_info": {
   "codemirror_mode": {
    "name": "ipython",
    "version": 3
   },
   "file_extension": ".py",
   "mimetype": "text/x-python",
   "name": "python",
   "nbconvert_exporter": "python",
   "pygments_lexer": "ipython3",
   "version": "3.10.8"
  }
 },
 "nbformat": 4,
 "nbformat_minor": 5
}
