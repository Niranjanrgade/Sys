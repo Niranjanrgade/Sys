{
 "cells": [
  {
   "cell_type": "code",
   "execution_count": 1,
   "id": "542153ad-47c5-44e9-8732-5e03c9afb44c",
   "metadata": {},
   "outputs": [],
   "source": [
    "import nltk"
   ]
  },
  {
   "cell_type": "code",
   "execution_count": 3,
   "id": "3b81064f-9f7c-4de8-9b50-8c9ca0348137",
   "metadata": {},
   "outputs": [],
   "source": [
    "text = '''Corinna or Korinna (Ancient Greek: Κόριννα, romanized: Korinna) was an ancient Greek lyric poet from Tanagra in Boeotia. Although ancient sources portray her as a contemporary of Pindar (born c. 518 BC), not all modern scholars accept the accuracy of this tradition. When she lived has been the subject of much debate since the early twentieth century, proposed dates ranging from the beginning of the fifth century to the late third century BC.\n",
    "\n",
    "Corinna's works survive only in fragments: three substantial sections of poems are preserved on second-century AD papyri from Egypt; several shorter pieces survive in quotations by ancient grammarians. They focus on local Boeotian legends, and are distinctive for their mythological innovations. Corinna's poetry often reworks well-known myths to include details not known from any other sources. Though respected in her hometown, Tanagra, and popular in ancient Rome, modern critics regard her as provincial and dull; her poetry is nonetheless of interest as the work of one of the few preserved female poets from ancient Greece.\n",
    "\n",
    "A painting of two women sitting, facing a man who holds a statuette of a winged boy\n",
    "According to ancient tradition, Corinna was a pupil of Myrtis of Anthedon, with whom she sits in this painting by Ernst Stückelberg.\n",
    "\n",
    "Corinna was from Tanagra[a] in Boeotia.[4] The Suda, a tenth-century encyclopedia, records that she was the daughter of Acheloodorus and Procratia, and was nicknamed Myia (Μυῖα, \"the fly\").[1] According to ancient tradition, she lived during the fifth century BC.[5] She was supposed to have been a contemporary of Pindar, either having taught him, or been a fellow-pupil of Myrtis of Anthedon with him.[b][7] Corinna was said to have competed with Pindar, defeating him in at least one poetry competition, though some sources claim five.[c][7][9]\n",
    "\n",
    "Since the early twentieth century, scholars have been divided over the accuracy of the traditional chronology of Corinna's life.[10] One of the first scholars to question this was Edgar Lobel,[11] who in 1930 concluded that there is no reason to believe she predated the orthography used on the Berlin papyrus, on which fragments of two of her poems are preserved.[d][14] The debate over Corinna's date has dominated scholarship since,[15] and the evidence remains inconclusive.[16] Sceptics of the traditional chronology argue that there is no ancient mention of Corinna before the first century BC, and that the orthography of her surviving poetry was not established until after the mid-fourth century.[17] This is the most common view,[18] with Martin Litchfield West[19] and David A. Campbell[20] among those who believe a late date for Corinna. Campbell concludes that a third-century date is \"almost certain\".[21]\n",
    "\n",
    "The alternative view, accepting the traditional fifth-century date, is set forth by scholars such as Archibald Allen and Jiri Frel.[22] If the traditional date is correct, the lack of ancient reference to Corinna before the first century, and the later orthography, could both be explained by her being of only local interest before the Hellenistic period. According to this theory, when she was rediscovered and popularised in the Hellenistic period her poetry would have been re-spelled into contemporary Boeotian orthography, as her original fifth-century orthography was too unfamiliar to a third-century audience.[23] An apparent terminus ante quem is established by the second-century AD theologian Tatian, who says in his Address to the Greeks that the fourth-century sculptor Silanion made a portrait-statue of Corinna.[24] A Roman-era copy of a fourth-century statue in the Musée Vivenel in Compiègne, France, is identified by an inscription on the base as depicting Corinna, and is widely accepted by archeologists as a copy of Silanion's sculpture.[25] Philologists continue to regard this attribution with what Thea S. Thorsen describes as \"unwarranted scepticism\".[26] West, for instance, accepts that the Compiègne statuette is a copy of a fourth-century work, but suggests that it was not originally intended to depict Corinna, only gaining that association in the Roman period.[27] Thorsen argues that the sculpture was always intended as an image of Corinna, noting that the figure is shown with five scrolls that match the five books of poetry attributed to Corinna in antiquity.[26]\n",
    "Poetry\n",
    "A statue of a seated woman, nude from the waist up, with a lyre at her feet\n",
    "Corinna: The Lyric Muse, c. 1855, by William Brodie\n",
    "\n",
    "Corinna, like Pindar, wrote choral lyric poetry – as demonstrated by her invocation of Terpsichore, the Muse of dance and chorus, in one of her fragments.[28] According to the Suda, she wrote five books of poetry.[20] Her works were collected in a Boeotian edition in the late third or early second century BC, and later Hellenistic and Roman texts of Corinna derived from this.[29] This Boeotian edition was produced in a scholarly format, with titles for the poems; it may have also included accent marks and hypotheses, but is unlikely to have included line numbers.[30]\n",
    "\n",
    "Corinna wrote in a literary dialect, which had features of her Boeotian vernacular,[31] along with similarities to the language of epic both in morphology and in her choice of words;[32] Daniel Berman describes it as \"epic written as Boeotian\".[33] If Corinna was a contemporary of Pindar, this use of the local vernacular as a literary language is archaic – though the earlier poets Alcman and Stesichoros wrote in literary dialects based on their own vernaculars, the fifth-century choral poets Pindar and Bacchylides both wrote in Doric despite it not being their local dialect. On the other hand, if she is to be located closer to the Hellenistic period, parallels can be found in the poetry of Theocritus, who also used features of his native dialect in the Idylls.[34]\n",
    "Poems\n",
    "\n",
    "About forty fragments of Corinna's poetry survive,[e] more than any ancient woman poet except for Sappho,[36] though no complete poems of hers are known.[9] The three most substantial fragments are preserved on pieces of papyrus discovered in Hermopolis and Oxyrhynchus in Egypt, dating to the second century AD; many of the shorter fragments survive in citations by grammarians interested in Corinna's Boeotian dialect.[9]\n",
    "\n",
    "Two fragments of Corinna's poetry are preserved on the same papyrus (P.Berol. 13284), now in the collection of the Berlin State Museums. The first of these tells the story of a singing contest between the mountains Cithaeron and Helicon. The surviving portion includes the ending of one of the mountain's songs,[f] the gods voting on the winner of the contest, and the losing mountain, Helicon, throwing down a boulder in anger.[38] The second poem preserved on this papyrus tells of the daughters of the river-god Asopus. It mostly consists of a prophet, Acraephen, telling Asopus how his daughters were abducted by the gods, and that they will go on to give birth to many heroes; the papyrus ends with a highly fragmentary portion in which Asopus appears to be reconciled to his daughters' fate, and he responds \"happily\".[39] The third substantial fragment of Corinna's poetry, preserved on a papyrus in the Sackler Library of the University of Oxford (P.Oxy. 2370), invokes the muse of dance and choral poetry, Terpsichore. It is usually thought to be from a partheneion, a kind of poem performed by a chorus of young women for a public occasion.[40] West suggests that it was written as an introductory poem for Corinna's collection.[41]\n",
    "Style\n",
    "Very damaged fragment of papyrus, with Greek text written on it\n",
    "Part of P.Berol. 13284, on which Corinna's poems on the \"Contest of Helicon and Cithaeron\" and the \"Daughters of Asopus\" are preserved\n",
    "\n",
    "Corinna's language is clear, simple, and generally undecorated,[42] and she tends to use simple metrical schemes.[4] Her poetry focuses more on the narrative than on intricate use of language.[43] Her use of lyric poetry to tell mythic narratives is similar to that of Stesichoros.[44] Corinna's poetry is often ironic or humorous in tone, in contrast with the serious tone of her Boeotian compatriot Pindar.[45]\n",
    "\n",
    "Corinna's poetry is almost entirely concerned with myth.[46] According to a story recounted by Plutarch in On the Glory of the Athenians, she considered myth the proper subject for poetry, rebuking Pindar for not paying sufficient attention to it.[47] Pindar was said to have responded to this criticism by filling his next ode with mythical allusions, leading Corinna to advise him, \"Sow with the hand, not with the sack.\"[48] Corinna's poetry concentrates on local legends,[49] with poems about Orion, Oedipus, and the Seven against Thebes.[50] Her \"Orestes\"[g] is possibly an exception to her focus on Boeotian legends.[21] Her poetry often reworks mythological tradition[51] – according to Derek Collins, \"the most distinctive feature of Corinna's poetry is her mythological innovation\"[52] – frequently including details which are otherwise unknown.[53] These reworkings often present gods and heroes in a more positive light than in more common versions of the myths.[54]\n",
    "\n",
    "Two of Corinna's most substantial fragments, the \"Daughters of Asopus\" and \"Terpsichore\" poems, demonstrate a strong interest in genealogy.[55] This genealogical focus is reminiscent of the works of Hesiod, especially the Catalogue of Women, though other lost genealogical poetry is known from the archaic period – for instance by Asius of Samos and Eumelus of Corinth.[56] The third major surviving fragment of Corinna's poetry, on the contest between Mount Cithaeron and Mount Helicon, seems also to have been influenced by Hesiod, who also wrote an account of this myth.[57]\n",
    "\n",
    "Marilyn B. Skinner argues that Corinna's poetry is part of the tradition of \"women's poetry\" in ancient Greece, though it differs significantly from Sappho's conception of that genre.[58] She considers that although it was written by a woman, Corinna's poetry tells stories from a patriarchal point of view,[58] describing women's lives from a masculine perspective.[59] Anne Klinck suggests that \"a certain feminine irony is detectable\" in Corinna's works,[60] and John Heath argues that in the \"Terpsichore\" poem Corinna deliberately emphasises her position as a woman poet.[61] Diane Rayor argues that although Corinna's poetry does not directly challenge patriarchal traditions, it is still \"woman-identified\", focusing on women's experiences and being written for a female audience.[62]\n",
    "Performance context\n",
    "\n",
    "The circumstances in which Corinna's poetry was performed are uncertain, and have been the subject of much scholarly debate. At least some of her poetry was probably performed for a mixed-gender audience, though some may have been intended for a specifically female audience.[63] Skinner suggests that Corinna's songs were composed for performance by a chorus of young girls in religious festivals, and were related to the ancient genre of partheneia.[28] The poems may have been performed at cult celebrations in the places which appear in her poetry. Possible settings include the Mouseia at Thespia, proposed by West, and at the festival of the Daedala at Plataea, suggested by Gabriele Burzacchini.[64]\n",
    "Reception\n",
    "Full-length statue of a woman, shown from front and behind\n",
    "Ancient marble sculpture of Corinna, possibly a copy of Silanion's bronze mentioned by Tatian\n",
    "\n",
    "Corinna was well-regarded by the people of ancient Tanagra, her hometown. Pausanias reports that there was a monument to her in the streets of the town – probably a statue – and a painting of her in the gymnasium.[65] Tatian writes in his Address to the Greeks that Silanion had sculpted her.[h][24] In the early Roman Empire, Corinna's poetry was popular.[4] The earliest mention of Corinna is by the first-century BC poet Antipater of Thessalonica, who includes her in his selection of nine \"mortal muses\".[66] Ovid gives his lover the pseudonym Corinna in his Amores, often believed to be a reference to the Tanagran poet.[67] She is also named by Propertius as a model for Cynthia, and by Statius along with Callimachus, Lycophron, and Sophron.[68] Alexander Polyhistor wrote a commentary on her work.[69]\n",
    "\n",
    "In the nineteenth century, Corinna was still remembered as a poetic authority, Karl Otfried Müller presenting her as a preeminent ancient poet and citing the stories of her competition against Pindar.[70] Modern critics have tended to dismiss Corinna's work, considering it dull.[71] For instance, West describes Corinna as more gifted than most local poets, but lacking the originality that would put her on the same level as Bacchylides or Pindar.[72] Athanassios Vergados argues that Corinna's poor reception among modern critics is due to her concern with local Boeotian legend, which gave her the reputation of being provincial and therefore second-rate.[24] More recently, critics have begun to see Corinna's poetry as engaging with Panhellenic mythical and literary traditions, rewriting them to give Boeotian characters a more prominent role.[73] Corinna's work has also been of interest to feminist literary historians as one of the few extant examples of ancient Greek women's poetry.'''"
   ]
  },
  {
   "cell_type": "code",
   "execution_count": 4,
   "id": "f4b738bc-ef74-47b1-9056-e1f00c4351ba",
   "metadata": {},
   "outputs": [],
   "source": [
    "from nltk.tokenize import word_tokenize\n",
    "\n",
    "words = word_tokenize(text)"
   ]
  },
  {
   "cell_type": "code",
   "execution_count": null,
   "id": "d1820c13-6452-4b25-b4d7-14c759bf9939",
   "metadata": {},
   "outputs": [],
   "source": [
    "#words"
   ]
  },
  {
   "cell_type": "code",
   "execution_count": 6,
   "id": "f092c836-a569-42cb-b227-b015344134d7",
   "metadata": {},
   "outputs": [],
   "source": [
    "from nltk.corpus import stopwords\n",
    "\n",
    "stop_words = stopwords.words('english')"
   ]
  },
  {
   "cell_type": "code",
   "execution_count": 11,
   "id": "62856aa9-b1fe-41ba-bab0-2e604c6da4de",
   "metadata": {},
   "outputs": [],
   "source": [
    "#stop_words"
   ]
  },
  {
   "cell_type": "code",
   "execution_count": 12,
   "id": "f407eeab-7a29-4b43-902d-f99028df0fcd",
   "metadata": {},
   "outputs": [],
   "source": [
    "from string import punctuation\n",
    "stop_words.extend(punctuation)"
   ]
  },
  {
   "cell_type": "code",
   "execution_count": 14,
   "id": "2d52596a-9dc8-4da0-93c9-c0b498ab8298",
   "metadata": {},
   "outputs": [],
   "source": [
    "#stop_words"
   ]
  },
  {
   "cell_type": "code",
   "execution_count": 16,
   "id": "eec92625-af69-4353-b8a4-e227202dca6a",
   "metadata": {},
   "outputs": [],
   "source": [
    "words = [word for word in words if word not in stop_words]"
   ]
  },
  {
   "cell_type": "code",
   "execution_count": 18,
   "id": "8e6fd5f0-5fa9-4b5f-b07d-40dc0a2162d2",
   "metadata": {},
   "outputs": [],
   "source": [
    "#words"
   ]
  },
  {
   "cell_type": "code",
   "execution_count": 19,
   "id": "94d94a81-44f6-4c8f-981f-212c635eb132",
   "metadata": {},
   "outputs": [
    {
     "data": {
      "text/plain": [
       "FreqDist({'Corinna': 53, \"'s\": 36, 'poetry': 33, '``': 18, \"''\": 16, 'ancient': 15, 'The': 13, 'Pindar': 11, 'century': 11, 'Boeotian': 11, ...})"
      ]
     },
     "execution_count": 19,
     "metadata": {},
     "output_type": "execute_result"
    }
   ],
   "source": [
    "nltk.FreqDist(words)"
   ]
  },
  {
   "cell_type": "code",
   "execution_count": 21,
   "id": "df2ba6e6-493f-4a4e-9e63-bb46a902c5a9",
   "metadata": {},
   "outputs": [
    {
     "data": {
      "text/plain": [
       "[('Corinna', 53),\n",
       " (\"'s\", 36),\n",
       " ('poetry', 33),\n",
       " ('``', 18),\n",
       " (\"''\", 16),\n",
       " ('ancient', 15),\n",
       " ('The', 13),\n",
       " ('Pindar', 11),\n",
       " ('century', 11),\n",
       " ('Boeotian', 11),\n",
       " ('fragments', 8),\n",
       " ('poems', 8),\n",
       " ('preserved', 8),\n",
       " ('local', 7),\n",
       " ('papyrus', 7),\n",
       " ('wrote', 7),\n",
       " ('–', 7),\n",
       " ('poet', 6),\n",
       " ('BC', 6),\n",
       " ('women', 6)]"
      ]
     },
     "execution_count": 21,
     "metadata": {},
     "output_type": "execute_result"
    }
   ],
   "source": [
    "nltk.FreqDist(words).most_common(20)"
   ]
  },
  {
   "cell_type": "code",
   "execution_count": null,
   "id": "906a331b-33cc-4956-9470-ed6b2798517a",
   "metadata": {},
   "outputs": [],
   "source": []
  }
 ],
 "metadata": {
  "kernelspec": {
   "display_name": "Python 3 (ipykernel)",
   "language": "python",
   "name": "python3"
  },
  "language_info": {
   "codemirror_mode": {
    "name": "ipython",
    "version": 3
   },
   "file_extension": ".py",
   "mimetype": "text/x-python",
   "name": "python",
   "nbconvert_exporter": "python",
   "pygments_lexer": "ipython3",
   "version": "3.10.8"
  }
 },
 "nbformat": 4,
 "nbformat_minor": 5
}
