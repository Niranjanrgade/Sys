{
 "cells": [
  {
   "cell_type": "markdown",
   "id": "8fc8706a-acdf-47ff-8a5a-dd184a9404d4",
   "metadata": {},
   "source": [
    "Title,   Problem definition,   Import required packages,   Get data,   Exploratory data analysis(EDA),   \n",
    "Data cleansing,   Data preparation,   Model creation,   Model training,   model evaluation,   result visualisation"
   ]
  },
  {
   "cell_type": "markdown",
   "id": "4becf18d-1185-4eab-8692-bc5875000faf",
   "metadata": {},
   "source": [
    "#### EDA\n",
    "head, info, describe, cov, corr, sns.pairplot(df), isna().sum() "
   ]
  },
  {
   "cell_type": "markdown",
   "id": "e841fc0b-f532-49ce-8f0c-634e0170417d",
   "metadata": {},
   "source": [
    "#### Data cleansing\n",
    "fillna(mean(), mode()[0], inplace=True) "
   ]
  },
  {
   "cell_type": "markdown",
   "id": "d36b80f3-9b09-4f93-82ed-98dab5b81273",
   "metadata": {},
   "source": [
    "#### Data preparation\n",
    "- x = df[['  ']]\n",
    "- y = df[' ']"
   ]
  },
  {
   "cell_type": "markdown",
   "id": "728e1f57-264f-42d5-abda-205dd5bb920b",
   "metadata": {},
   "source": [
    "#### Model\n",
    "- sklearn.linear_model.LinearRegression\n",
    "- sklearn.linear_model.LogisticRegressionCV\n"
   ]
  },
  {
   "cell_type": "markdown",
   "id": "3f8a23f6-dde6-4b89-b780-079c59cac9f7",
   "metadata": {},
   "source": [
    "#### Model training\n",
    "- sklearn.model_selection.train_test_split(x, y)\n",
    "- x_train, x_test, y_train, y_test = train_test_split(x, y, train_size=0.8)\n",
    "- model.fit(x_train, y_train)\n",
    "- model.coef_ , pd.DataFrame(model.coef_, x.columns) , model.intercept_ ,\n",
    "- model.predict(pd.DataFrame([[  ]], columns=x.columns))"
   ]
  },
  {
   "cell_type": "markdown",
   "id": "b8608988-ebe2-4338-8965-21dc85bc3371",
   "metadata": {},
   "source": [
    "####  Model Evalution regression\n",
    "- y_pred = model.predict(x_test)\n",
    "- sklearn.metrics.mean_absolute_error(y_true, y_pred)\n",
    "- sklearn.metrics.mean_squared_error(y_true, y_pred)\n",
    "- np.sqrt(mse)\n",
    "- sklearn.metrics.r2_score(y_true, y_pred)"
   ]
  },
  {
   "cell_type": "markdown",
   "id": "59025fef-cd76-41fb-9cff-160a189d53ce",
   "metadata": {},
   "source": [
    "#### Model Evaluation classification\n",
    "- sklearn.metrics.confusion_matrix(y_test, y_pred)\n",
    "- tn, fp, fn, tp = cm.ravel()\n",
    "- sklearn.metrics.accuracy_score(y_test, y_pred)\n",
    "- sklearn.metrics.precision_score(y_test, y_pred)\n",
    "- sklearn.metrics.recall_score(y_test, y_pred)\n",
    "- sklearn.metrics.f1_score(y_test, y_pred)\n",
    "- print(sklearn.metrics.classification_report(y_test, y_pred))\n",
    "- sklearn.metrics.roc_auc_score(y_test, y_pred_proba)\n",
    "- sklearn.metrics.roc_curve\n",
    "- - y_pred_proba = model.predict_proba(x_test)[:, 1]\n",
    "- - fpr, tpr, thresholds = roc_curve(y_test, y_pred_proba)\n",
    "- - plt.plot(fpr, tpr)"
   ]
  },
  {
   "cell_type": "markdown",
   "id": "c9af5240-8592-44f6-9b56-08e23e8e0e30",
   "metadata": {},
   "source": [
    "#### Pickle\n",
    "- import pickle\n",
    "- with open(' .pk', 'wb') as model_file:\n",
    "    pickle.dump(model, model_file)"
   ]
  },
  {
   "cell_type": "markdown",
   "id": "5568ed16-12fd-47e6-8644-0a1af21342e6",
   "metadata": {},
   "source": [
    "#### Result viz\n",
    "- plt.scatter(df[' '], df[' '])\n",
    "- plt.plot(df[' '], model.predict(x))"
   ]
  },
  {
   "cell_type": "markdown",
   "id": "79f25287",
   "metadata": {},
   "source": [
    "#### Result viz classification\n",
    "- plt.scatter.(x_test[' '][y_test == 0], x_test[' 2 '][y_test == 0], color='', label='')\n",
    "- plt.scatter.(x_test[' '][y_test == 1]"
   ]
  }
 ],
 "metadata": {
  "kernelspec": {
   "display_name": "Python 3 (ipykernel)",
   "language": "python",
   "name": "python3"
  },
  "language_info": {
   "codemirror_mode": {
    "name": "ipython",
    "version": 3
   },
   "file_extension": ".py",
   "mimetype": "text/x-python",
   "name": "python",
   "nbconvert_exporter": "python",
   "pygments_lexer": "ipython3",
   "version": "3.10.8"
  }
 },
 "nbformat": 4,
 "nbformat_minor": 5
}
