{
 "cells": [
  {
   "cell_type": "markdown",
   "id": "36fc64c6-59ee-4318-8d68-8121402757e1",
   "metadata": {},
   "source": [
    "feature selection\n",
    "- corr = df.corr()\n",
    "- corrs = corr['df.columns[-1]']\n",
    "- "
   ]
  }
 ],
 "metadata": {
  "kernelspec": {
   "display_name": "Python 3 (ipykernel)",
   "language": "python",
   "name": "python3"
  },
  "language_info": {
   "codemirror_mode": {
    "name": "ipython",
    "version": 3
   },
   "file_extension": ".py",
   "mimetype": "text/x-python",
   "name": "python",
   "nbconvert_exporter": "python",
   "pygments_lexer": "ipython3",
   "version": "3.10.8"
  }
 },
 "nbformat": 4,
 "nbformat_minor": 5
}
