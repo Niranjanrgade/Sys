{
 "cells": [
  {
   "cell_type": "code",
   "execution_count": 1,
   "id": "ab279a99",
   "metadata": {},
   "outputs": [],
   "source": [
    "import numpy as np\n",
    "import pandas as pd\n",
    "import matplotlib.pyplot as plt\n",
    "import seaborn as sns"
   ]
  },
  {
   "cell_type": "code",
   "execution_count": 2,
   "id": "89118070",
   "metadata": {},
   "outputs": [
    {
     "data": {
      "text/html": [
       "<div>\n",
       "<style scoped>\n",
       "    .dataframe tbody tr th:only-of-type {\n",
       "        vertical-align: middle;\n",
       "    }\n",
       "\n",
       "    .dataframe tbody tr th {\n",
       "        vertical-align: top;\n",
       "    }\n",
       "\n",
       "    .dataframe thead th {\n",
       "        text-align: right;\n",
       "    }\n",
       "</style>\n",
       "<table border=\"1\" class=\"dataframe\">\n",
       "  <thead>\n",
       "    <tr style=\"text-align: right;\">\n",
       "      <th></th>\n",
       "      <th>age</th>\n",
       "      <th>physical_score</th>\n",
       "      <th>test_result</th>\n",
       "    </tr>\n",
       "  </thead>\n",
       "  <tbody>\n",
       "    <tr>\n",
       "      <th>0</th>\n",
       "      <td>33.0</td>\n",
       "      <td>40.7</td>\n",
       "      <td>1</td>\n",
       "    </tr>\n",
       "    <tr>\n",
       "      <th>1</th>\n",
       "      <td>50.0</td>\n",
       "      <td>37.2</td>\n",
       "      <td>1</td>\n",
       "    </tr>\n",
       "    <tr>\n",
       "      <th>2</th>\n",
       "      <td>52.0</td>\n",
       "      <td>24.7</td>\n",
       "      <td>0</td>\n",
       "    </tr>\n",
       "    <tr>\n",
       "      <th>3</th>\n",
       "      <td>56.0</td>\n",
       "      <td>31.0</td>\n",
       "      <td>0</td>\n",
       "    </tr>\n",
       "    <tr>\n",
       "      <th>4</th>\n",
       "      <td>35.0</td>\n",
       "      <td>42.9</td>\n",
       "      <td>1</td>\n",
       "    </tr>\n",
       "  </tbody>\n",
       "</table>\n",
       "</div>"
      ],
      "text/plain": [
       "    age  physical_score  test_result\n",
       "0  33.0            40.7            1\n",
       "1  50.0            37.2            1\n",
       "2  52.0            24.7            0\n",
       "3  56.0            31.0            0\n",
       "4  35.0            42.9            1"
      ]
     },
     "execution_count": 2,
     "metadata": {},
     "output_type": "execute_result"
    }
   ],
   "source": [
    "df = pd.read_csv('hearing_test.csv')\n",
    "df.head()"
   ]
  },
  {
   "cell_type": "code",
   "execution_count": 3,
   "id": "46400cbe",
   "metadata": {},
   "outputs": [
    {
     "name": "stdout",
     "output_type": "stream",
     "text": [
      "<class 'pandas.core.frame.DataFrame'>\n",
      "RangeIndex: 5000 entries, 0 to 4999\n",
      "Data columns (total 3 columns):\n",
      " #   Column          Non-Null Count  Dtype  \n",
      "---  ------          --------------  -----  \n",
      " 0   age             5000 non-null   float64\n",
      " 1   physical_score  5000 non-null   float64\n",
      " 2   test_result     5000 non-null   int64  \n",
      "dtypes: float64(2), int64(1)\n",
      "memory usage: 117.3 KB\n"
     ]
    }
   ],
   "source": [
    "df.info()"
   ]
  },
  {
   "cell_type": "code",
   "execution_count": 4,
   "id": "648cdf53",
   "metadata": {},
   "outputs": [
    {
     "data": {
      "text/html": [
       "<div>\n",
       "<style scoped>\n",
       "    .dataframe tbody tr th:only-of-type {\n",
       "        vertical-align: middle;\n",
       "    }\n",
       "\n",
       "    .dataframe tbody tr th {\n",
       "        vertical-align: top;\n",
       "    }\n",
       "\n",
       "    .dataframe thead th {\n",
       "        text-align: right;\n",
       "    }\n",
       "</style>\n",
       "<table border=\"1\" class=\"dataframe\">\n",
       "  <thead>\n",
       "    <tr style=\"text-align: right;\">\n",
       "      <th></th>\n",
       "      <th>age</th>\n",
       "      <th>physical_score</th>\n",
       "      <th>test_result</th>\n",
       "    </tr>\n",
       "  </thead>\n",
       "  <tbody>\n",
       "    <tr>\n",
       "      <th>count</th>\n",
       "      <td>5000.000000</td>\n",
       "      <td>5000.000000</td>\n",
       "      <td>5000.000000</td>\n",
       "    </tr>\n",
       "    <tr>\n",
       "      <th>mean</th>\n",
       "      <td>51.609000</td>\n",
       "      <td>32.760260</td>\n",
       "      <td>0.600000</td>\n",
       "    </tr>\n",
       "    <tr>\n",
       "      <th>std</th>\n",
       "      <td>11.287001</td>\n",
       "      <td>8.169802</td>\n",
       "      <td>0.489947</td>\n",
       "    </tr>\n",
       "    <tr>\n",
       "      <th>min</th>\n",
       "      <td>18.000000</td>\n",
       "      <td>-0.000000</td>\n",
       "      <td>0.000000</td>\n",
       "    </tr>\n",
       "    <tr>\n",
       "      <th>25%</th>\n",
       "      <td>43.000000</td>\n",
       "      <td>26.700000</td>\n",
       "      <td>0.000000</td>\n",
       "    </tr>\n",
       "    <tr>\n",
       "      <th>50%</th>\n",
       "      <td>51.000000</td>\n",
       "      <td>35.300000</td>\n",
       "      <td>1.000000</td>\n",
       "    </tr>\n",
       "    <tr>\n",
       "      <th>75%</th>\n",
       "      <td>60.000000</td>\n",
       "      <td>38.900000</td>\n",
       "      <td>1.000000</td>\n",
       "    </tr>\n",
       "    <tr>\n",
       "      <th>max</th>\n",
       "      <td>90.000000</td>\n",
       "      <td>50.000000</td>\n",
       "      <td>1.000000</td>\n",
       "    </tr>\n",
       "  </tbody>\n",
       "</table>\n",
       "</div>"
      ],
      "text/plain": [
       "               age  physical_score  test_result\n",
       "count  5000.000000     5000.000000  5000.000000\n",
       "mean     51.609000       32.760260     0.600000\n",
       "std      11.287001        8.169802     0.489947\n",
       "min      18.000000       -0.000000     0.000000\n",
       "25%      43.000000       26.700000     0.000000\n",
       "50%      51.000000       35.300000     1.000000\n",
       "75%      60.000000       38.900000     1.000000\n",
       "max      90.000000       50.000000     1.000000"
      ]
     },
     "execution_count": 4,
     "metadata": {},
     "output_type": "execute_result"
    }
   ],
   "source": [
    "df.describe()"
   ]
  },
  {
   "cell_type": "code",
   "execution_count": 5,
   "id": "28ec5754",
   "metadata": {},
   "outputs": [
    {
     "data": {
      "text/html": [
       "<div>\n",
       "<style scoped>\n",
       "    .dataframe tbody tr th:only-of-type {\n",
       "        vertical-align: middle;\n",
       "    }\n",
       "\n",
       "    .dataframe tbody tr th {\n",
       "        vertical-align: top;\n",
       "    }\n",
       "\n",
       "    .dataframe thead th {\n",
       "        text-align: right;\n",
       "    }\n",
       "</style>\n",
       "<table border=\"1\" class=\"dataframe\">\n",
       "  <thead>\n",
       "    <tr style=\"text-align: right;\">\n",
       "      <th></th>\n",
       "      <th>age</th>\n",
       "      <th>physical_score</th>\n",
       "      <th>test_result</th>\n",
       "    </tr>\n",
       "  </thead>\n",
       "  <tbody>\n",
       "    <tr>\n",
       "      <th>age</th>\n",
       "      <td>127.396398</td>\n",
       "      <td>-72.123723</td>\n",
       "      <td>-3.777956</td>\n",
       "    </tr>\n",
       "    <tr>\n",
       "      <th>physical_score</th>\n",
       "      <td>-72.123723</td>\n",
       "      <td>66.745660</td>\n",
       "      <td>3.173059</td>\n",
       "    </tr>\n",
       "    <tr>\n",
       "      <th>test_result</th>\n",
       "      <td>-3.777956</td>\n",
       "      <td>3.173059</td>\n",
       "      <td>0.240048</td>\n",
       "    </tr>\n",
       "  </tbody>\n",
       "</table>\n",
       "</div>"
      ],
      "text/plain": [
       "                       age  physical_score  test_result\n",
       "age             127.396398      -72.123723    -3.777956\n",
       "physical_score  -72.123723       66.745660     3.173059\n",
       "test_result      -3.777956        3.173059     0.240048"
      ]
     },
     "execution_count": 5,
     "metadata": {},
     "output_type": "execute_result"
    }
   ],
   "source": [
    "df.cov()"
   ]
  },
  {
   "cell_type": "code",
   "execution_count": 6,
   "id": "85277561",
   "metadata": {},
   "outputs": [
    {
     "data": {
      "text/html": [
       "<div>\n",
       "<style scoped>\n",
       "    .dataframe tbody tr th:only-of-type {\n",
       "        vertical-align: middle;\n",
       "    }\n",
       "\n",
       "    .dataframe tbody tr th {\n",
       "        vertical-align: top;\n",
       "    }\n",
       "\n",
       "    .dataframe thead th {\n",
       "        text-align: right;\n",
       "    }\n",
       "</style>\n",
       "<table border=\"1\" class=\"dataframe\">\n",
       "  <thead>\n",
       "    <tr style=\"text-align: right;\">\n",
       "      <th></th>\n",
       "      <th>age</th>\n",
       "      <th>physical_score</th>\n",
       "      <th>test_result</th>\n",
       "    </tr>\n",
       "  </thead>\n",
       "  <tbody>\n",
       "    <tr>\n",
       "      <th>age</th>\n",
       "      <td>1.000000</td>\n",
       "      <td>-0.782146</td>\n",
       "      <td>-0.683171</td>\n",
       "    </tr>\n",
       "    <tr>\n",
       "      <th>physical_score</th>\n",
       "      <td>-0.782146</td>\n",
       "      <td>1.000000</td>\n",
       "      <td>0.792716</td>\n",
       "    </tr>\n",
       "    <tr>\n",
       "      <th>test_result</th>\n",
       "      <td>-0.683171</td>\n",
       "      <td>0.792716</td>\n",
       "      <td>1.000000</td>\n",
       "    </tr>\n",
       "  </tbody>\n",
       "</table>\n",
       "</div>"
      ],
      "text/plain": [
       "                     age  physical_score  test_result\n",
       "age             1.000000       -0.782146    -0.683171\n",
       "physical_score -0.782146        1.000000     0.792716\n",
       "test_result    -0.683171        0.792716     1.000000"
      ]
     },
     "execution_count": 6,
     "metadata": {},
     "output_type": "execute_result"
    }
   ],
   "source": [
    "df.corr()"
   ]
  },
  {
   "cell_type": "code",
   "execution_count": 7,
   "id": "6c4798a0",
   "metadata": {},
   "outputs": [],
   "source": [
    "x = df[['age', 'physical_score']]\n",
    "y = df['test_result']"
   ]
  },
  {
   "cell_type": "code",
   "execution_count": 14,
   "id": "b4db54c5",
   "metadata": {},
   "outputs": [
    {
     "data": {
      "text/plain": [
       "57462357505803375604893834658665168251899919793850512934468881710397678593302188064618445132583370701755893065787216750992391223467601994741594656878559929037277303674963658032197224327768110236651567704673226756781828332650887849150208195780031161286578505113618731045004523840401144118298192191997565735245181433457469532981432785237769191864102953974244072964471109551273603780184330987071947790993108191904370472373403157802158903129815170101708451875442019845175637901995588390614304812103202403626211504997668649346891167495657556154392183988627948442807346603688457854135114491955258804187129028256547543888109987151649038111791932035229202856007767332717845596528598314477979861265222941138323298702349967224867703420888363395662988291273283611081068577160905840445308086112429900453394212790633910614322699210850302387512579976209123523546689147207974269396548873838155355768985614160932799226261509866933143702889005270480654844312094564956178277998090168826124850606847021667494019587077659107276117413835912767949017954979839258481340540145909025953956582025656306426226560"
      ]
     },
     "execution_count": 14,
     "metadata": {},
     "output_type": "execute_result"
    }
   ],
   "source": [
    "from math import comb\n",
    "split_ratio = 0.8\n",
    "combinations = comb(len(x), int(split_ratio*len(x)))\n",
    "max_combinations = combinations\n",
    "combinations"
   ]
  },
  {
   "cell_type": "code",
   "execution_count": 15,
   "id": "73817c81",
   "metadata": {},
   "outputs": [
    {
     "data": {
      "text/plain": [
       "5763"
      ]
     },
     "execution_count": 15,
     "metadata": {},
     "output_type": "execute_result"
    }
   ],
   "source": [
    "combiations_considered = 10000\n",
    "while combinations > combiations_considered:\n",
    "    combinations //= 2\n",
    "combinations"
   ]
  },
  {
   "cell_type": "code",
   "execution_count": 16,
   "id": "a4c43a5b",
   "metadata": {},
   "outputs": [
    {
     "data": {
      "text/plain": [
       "9970910551067738262171409796749118211330890125603073561420940779177108900451533587475003493420678587845895031370330860835049665706680894454553992170494521783320719013528311301786781941309753641619220493609791212351523222740046477381608224150621405741207444926881612188964866187819042880148914140551373544203571305475875331074341972104419432910654685749478409329250582951808711396873907858246043343916902341125172735098629734131903332141213807062590395952705538755019197970153667949091498318949020024922125890160969746546397912110993849757833104978071828638349357383947329143525093613040995801524749093919234347369097689944759506873467279548018254876975146162192928265925489903605410352466635943282721377529472491276222055079106084226212560869559827105861715873184262682707844540363079975785770295469483586780205222837211574247355991666876474670058422548535133484191662133235841637301576542453745063200808868621713195159272775511101970300939110630740270393544697235610988174667160683961043557103431833959270539200735018699973801484466395845650067766813449423209084952633291047445120"
      ]
     },
     "execution_count": 16,
     "metadata": {},
     "output_type": "execute_result"
    }
   ],
   "source": [
    "step = max_combinations // combinations\n",
    "step"
   ]
  },
  {
   "cell_type": "code",
   "execution_count": 17,
   "id": "956f9b26",
   "metadata": {},
   "outputs": [],
   "source": [
    "from sklearn.linear_model import LogisticRegressionCV\n",
    "model = LogisticRegressionCV()"
   ]
  },
  {
   "cell_type": "code",
   "execution_count": 19,
   "id": "4ed0d4a7",
   "metadata": {},
   "outputs": [],
   "source": [
    "from sklearn.metrics import accuracy_score\n",
    "from sklearn.metrics import precision_score\n",
    "from sklearn.metrics import recall_score\n",
    "from sklearn.metrics import f1_score"
   ]
  },
  {
   "cell_type": "code",
   "execution_count": 20,
   "id": "104767f9",
   "metadata": {},
   "outputs": [],
   "source": [
    "from sklearn.model_selection import train_test_split\n",
    "\n",
    "combinations_list = list()\n",
    "\n",
    "for combination in range(0, max_combinations, step):\n",
    "    x_train, x_test, y_train, y_test = train_test_split(x, y)\n",
    "    model.fit(x_train, y_train)\n",
    "    y_pred = model.predict(x_test)\n",
    "    accuracy = accuracy_score(y_test, y_pred)\n",
    "    precision = precision_score(y_test, y_pred)\n",
    "    recall = recall_score(y_test, y_pred)\n",
    "    f1 = f1_score(y_test, y_pred)\n",
    "    \n",
    "    tup = (combination, accuracy, precision, recall, f1)\n",
    "    combinations_list.append(tup)\n",
    "     "
   ]
  },
  {
   "cell_type": "code",
   "execution_count": 22,
   "id": "f92708fc",
   "metadata": {},
   "outputs": [
    {
     "name": "stdout",
     "output_type": "stream",
     "text": [
      "b_c, b_a : (3130865913035269814321822676179223118357899499439365098286175404661612194741781546467151096934093076583611039850283890302205595031897800858729953541535279839962705770247889748761049529571262643468435234993474440678378291940374593897824982383295121402739137707040826227334967982975179464366759040133131292879921389919424853957343379240787701933945571325336220529384683046867935378618407067489257609989907335113304238820969736517417646292341135417653384329149539169076028162628251736014730472149992287825547529510544500415568944402852068823959594963114554192441698218559461351066879394494872681678771215490639585073896674642654485158268725778077732031370195894928579475500603829732098850674523686190774512544254362260733725294839310447030744113041785711240578784179858482370263185674007112396731872777417846248984439970884434313669781383399213046398344680240031914036181909836054274112695034330475949845053984747217943280011651510486018674494880738052444903573034931981850286845488454763767676930477595863210949309030795871791773666122448295534121278779423118887652675126853388897767680, 0.944)\n"
     ]
    }
   ],
   "source": [
    "combinations_list.sort(key=lambda tup:tup[1], reverse=True)\n",
    "best_combination, best_accuracy, precision, re, f1 = combinations_list[0]\n",
    "print(f'b_c, b_a : {best_combination, best_accuracy}')\n"
   ]
  },
  {
   "cell_type": "code",
   "execution_count": 25,
   "id": "d782dcbf",
   "metadata": {},
   "outputs": [
    {
     "name": "stdout",
     "output_type": "stream",
     "text": [
      "b_c, b_a, b_p : (14547558494007830124508086893456963470331768693254884326113152596819401885758787504126030096900770059667160850769312725958337462266047425009194274576751507281864929040737806189306914852370930563122442700176685378820872381977727810499766399035756630976421662148320272183699739768027983562137265731064454000993010534689302108037464937300347952616645186508488999211376600526688909928039031565180977238774760515701627020508900782098446961594030944504319387694997381043573009838454201537724496047346620216361381673744854860211194553769940026796678500163006797983351712423179153220403111581426812874424608928028162912811513529629404120528388760860558633865506738250639482339985289769360293704248821841249490489815500364772007978360415776886044126308687787747452243458975839254070745184389733684671438861089976553112319420119491686826892391841972776543615238498312759753435635052391092948823000175440014047209980139319079551737378979470697774669070162410250054504181713266756431746839387437899162549813907045746575716693872392283261776365836471538803448871780822708462054945891971638222430080, 0.928, 0.946949602122016)\n"
     ]
    }
   ],
   "source": [
    "combinations_list.sort(key=lambda tup:tup[2], reverse=True)\n",
    "best_combination, accuracy, best_precision, re, f1 = combinations_list[0]\n",
    "print(f'b_c, b_a, b_p : {best_combination, accuracy, best_precision}')\n"
   ]
  },
  {
   "cell_type": "code",
   "execution_count": 26,
   "id": "2ff9da7b",
   "metadata": {},
   "outputs": [
    {
     "name": "stdout",
     "output_type": "stream",
     "text": [
      "b_c, b_a, b_p : (16800984278549138971758825507522264186092549861641178950994285212913428497260834094895380886413843420520333127859007500507058686715757307155923476807283269204895411537795204543510727571106934886128386531732498192812316630316978314388009857693797068673934544701795516538405799526475087253050920326829064421983017649726849932860266222995946744454453145487871119719787232273797678703732534741144583034499980444795916058641191102012257114657945264900464817180308832802207348579708930494219174667429098741993782124921234022930680481907024636841948781888051031255618667191951249606839782737974077925569202223253909875316929607556919769081792366038410759467703121283295084128084450487575116443906281564431385521137161147800434162808293751921168165065208308673376991246315482620362718050511789759199022947866079843724645800480701502606794845958686859819048441994281699920862950694502393158853156474034560431493362943627586733843374626736206819957082401412797355613122814842004515074314165752474358393719282640221370858553238506509455855501325876999920364187080662278107308145187095414945027200, 0.9216, 0.9040097205346294, 0.9750982961992136)\n"
     ]
    }
   ],
   "source": [
    "combinations_list.sort(key=lambda tup:tup[3], reverse=True)\n",
    "best_combination, accuracy, precision, best_recall, f1 = combinations_list[0]\n",
    "print(f'b_c, b_a, b_p : {best_combination, accuracy, precision, best_recall}')\n"
   ]
  },
  {
   "cell_type": "code",
   "execution_count": 27,
   "id": "bd020b20",
   "metadata": {},
   "outputs": [
    {
     "name": "stdout",
     "output_type": "stream",
     "text": [
      "b_c, b_a, b_p : (3130865913035269814321822676179223118357899499439365098286175404661612194741781546467151096934093076583611039850283890302205595031897800858729953541535279839962705770247889748761049529571262643468435234993474440678378291940374593897824982383295121402739137707040826227334967982975179464366759040133131292879921389919424853957343379240787701933945571325336220529384683046867935378618407067489257609989907335113304238820969736517417646292341135417653384329149539169076028162628251736014730472149992287825547529510544500415568944402852068823959594963114554192441698218559461351066879394494872681678771215490639585073896674642654485158268725778077732031370195894928579475500603829732098850674523686190774512544254362260733725294839310447030744113041785711240578784179858482370263185674007112396731872777417846248984439970884434313669781383399213046398344680240031914036181909836054274112695034330475949845053984747217943280011651510486018674494880738052444903573034931981850286845488454763767676930477595863210949309030795871791773666122448295534121278779423118887652675126853388897767680, 0.944, 0.9378238341968912, 0.9705093833780161, 0.9538866930171277)\n"
     ]
    }
   ],
   "source": [
    "combinations_list.sort(key=lambda tup:tup[4], reverse=True)\n",
    "best_combination, accuracy, precision, recall, best_f1 = combinations_list[0]\n",
    "print(f'b_c, b_a, b_p : {best_combination, accuracy, precision, recall, best_f1}')\n"
   ]
  },
  {
   "cell_type": "code",
   "execution_count": null,
   "id": "6c97dbba",
   "metadata": {},
   "outputs": [],
   "source": []
  }
 ],
 "metadata": {
  "kernelspec": {
   "display_name": "Python 3 (ipykernel)",
   "language": "python",
   "name": "python3"
  },
  "language_info": {
   "codemirror_mode": {
    "name": "ipython",
    "version": 3
   },
   "file_extension": ".py",
   "mimetype": "text/x-python",
   "name": "python",
   "nbconvert_exporter": "python",
   "pygments_lexer": "ipython3",
   "version": "3.10.8"
  }
 },
 "nbformat": 4,
 "nbformat_minor": 5
}
