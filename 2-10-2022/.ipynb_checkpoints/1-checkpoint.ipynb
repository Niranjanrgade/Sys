{
 "cells": [
  {
   "cell_type": "code",
   "execution_count": 1,
   "id": "9d8d4d14-4ba1-4366-b37a-23bf9457fcd0",
   "metadata": {},
   "outputs": [
    {
     "data": {
      "text/plain": [
       "['Balance creates true beauty in life.',\n",
       " 'But balance is not something you find, it is what you create, and only a select few know how to do it just right.',\n",
       " 'When it comes to striking the perfect balance between stunning design innovation and effortless functionality with just the right touch of class, no one does it better than Samsung.',\n",
       " 'Outdoing itself, once again, Samsung has come up with its latest range of toughest foldables around—the one-of-a-kind Samsung Galaxy Z Fold4']"
      ]
     },
     "execution_count": 1,
     "metadata": {},
     "output_type": "execute_result"
    }
   ],
   "source": [
    "text = \"\"\"Balance creates true beauty in life. But balance is not something you find, it is what you create, and only a select few know how to do it just right. When it comes to striking the perfect balance between stunning design innovation and effortless functionality with just the right touch of class, no one does it better than Samsung. Outdoing itself, once again, Samsung has come up with its latest range of toughest foldables around—the one-of-a-kind Samsung Galaxy Z Fold4\"\"\"\n",
    "\n",
    "import nltk\n",
    "\n",
    "sentenses = nltk.tokenize.sent_tokenize(text)\n",
    "sentenses"
   ]
  },
  {
   "cell_type": "code",
   "execution_count": null,
   "id": "89319397-955b-4acc-abb1-7643a8361c4f",
   "metadata": {},
   "outputs": [],
   "source": []
  }
 ],
 "metadata": {
  "kernelspec": {
   "display_name": "Python 3 (ipykernel)",
   "language": "python",
   "name": "python3"
  },
  "language_info": {
   "codemirror_mode": {
    "name": "ipython",
    "version": 3
   },
   "file_extension": ".py",
   "mimetype": "text/x-python",
   "name": "python",
   "nbconvert_exporter": "python",
   "pygments_lexer": "ipython3",
   "version": "3.10.8"
  }
 },
 "nbformat": 4,
 "nbformat_minor": 5
}
