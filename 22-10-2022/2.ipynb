{
 "cells": [
  {
   "cell_type": "code",
   "execution_count": 1,
   "id": "b10ef832",
   "metadata": {},
   "outputs": [],
   "source": [
    "import numpy as np\n",
    "import pandas as pd\n",
    "import matplotlib.pyplot as plt\n",
    "import seaborn as sns"
   ]
  },
  {
   "cell_type": "code",
   "execution_count": 2,
   "id": "d5f3d5a4",
   "metadata": {},
   "outputs": [],
   "source": [
    "df = pd.read_csv('Salary_Data.csv')"
   ]
  },
  {
   "cell_type": "code",
   "execution_count": 3,
   "id": "2c8df68b",
   "metadata": {},
   "outputs": [],
   "source": [
    "x = df[[\"YearsExperience\"]]\n",
    "y = df['Salary']"
   ]
  },
  {
   "cell_type": "code",
   "execution_count": 4,
   "id": "23db977b",
   "metadata": {},
   "outputs": [],
   "source": [
    "from sklearn.model_selection import train_test_split\n",
    "\n",
    "from sklearn.linear_model import LinearRegression\n",
    "model = LinearRegression()"
   ]
  },
  {
   "cell_type": "code",
   "execution_count": 5,
   "id": "70d8d6ae",
   "metadata": {},
   "outputs": [
    {
     "data": {
      "text/plain": [
       "{0: 0.951202770832236,\n",
       " 1: 0.9507156023666491,\n",
       " 2: 0.9468410032935696,\n",
       " 3: 0.949401360664202,\n",
       " 4: 0.9416351096098838,\n",
       " 5: 0.9737644685650759,\n",
       " 6: 0.9659266175519501,\n",
       " 7: 0.9516861592758626}"
      ]
     },
     "execution_count": 5,
     "metadata": {},
     "output_type": "execute_result"
    }
   ],
   "source": [
    "from sklearn.metrics import r2_score\n",
    "\n",
    "combinations_dict = dict() \n",
    "\n",
    "for combination in range(8):\n",
    "    x_train, x_test, y_train, y_test = train_test_split(x, y, random_state=combination)\n",
    "    model.fit(x_train, y_train) \n",
    "    combinations_dict[combination] = r2_score(y_test, model.predict(x_test))\n",
    "    \n",
    "combinations_dict"
   ]
  },
  {
   "cell_type": "code",
   "execution_count": null,
   "id": "e4e4f48a",
   "metadata": {},
   "outputs": [],
   "source": []
  }
 ],
 "metadata": {
  "kernelspec": {
   "display_name": "Python 3 (ipykernel)",
   "language": "python",
   "name": "python3"
  },
  "language_info": {
   "codemirror_mode": {
    "name": "ipython",
    "version": 3
   },
   "file_extension": ".py",
   "mimetype": "text/x-python",
   "name": "python",
   "nbconvert_exporter": "python",
   "pygments_lexer": "ipython3",
   "version": "3.10.8"
  }
 },
 "nbformat": 4,
 "nbformat_minor": 5
}
